{
 "cells": [
  {
   "cell_type": "code",
   "execution_count": 12,
   "id": "088fc461-a6bd-4860-90eb-c619db93bca5",
   "metadata": {},
   "outputs": [],
   "source": [
    "import openpyxl\n",
    "from datetime import datetime\n",
    "\n",
    "workbook = openpyxl.Workbook()\n",
    "\n",
    "worksheet = workbook.active\n",
    "\n",
    "worksheet[\"B2\"].value = \"請求書\"\n",
    "worksheet[\"B4\"].value = \"株式会社ABC\"\n",
    "worksheet[\"B5\"].value = \"〒101-0022 東京都千代田区神田練塀町300\"\n",
    "worksheet[\"B6\"].value = \"TEL:03-1234-5678 FAX:03-1234-5678\"\n",
    "worksheet[\"B7\"].value = \"担当者名:鈴木一郎 様\"\n",
    "worksheet[\"F4\"].value = \"No\"\n",
    "worksheet[\"G4\"].value = \"0001\"\n",
    "worksheet[\"F5\"].value = \"日付\"\n",
    "\n",
    "today = datetime.today()\n",
    "worksheet[\"G5\"].value = today.strftime('%Y/%m/%d')\n",
    "\n",
    "header = [\"\", \"商品名\", \"数量\", \"単価\", \"金額\"]\n",
    "\n",
    "for i in range(3):\n",
    "    worksheet.append([])\n",
    "\n",
    "worksheet.append(header)\n",
    "\n",
    "datas = [[\"\", \"商品A\", 2, 10000, 20000],\n",
    "         [\"\", \"商品B\", 1, 15000, 15000]]\n",
    "\n",
    "total = 0\n",
    "for data in datas:\n",
    "    worksheet.append(data)\n",
    "    total += data[4]\n",
    "\n",
    "worksheet.append([\"\", \"\", \"\", \"\", total])\n",
    "\n",
    "for i in range(2):\n",
    "    worksheet.append([])\n",
    "\n",
    "tax = int(total * 0.1)\n",
    "worksheet.append([\"\", \"小計\", \"\", \"\", total])\n",
    "worksheet.append([\"\", \"消費税\", \"\", \"\", tax])\n",
    "worksheet.append([\"\", \"合計\", \"\", \"\", total + tax])\n",
    "\n",
    "worksheet.column_dimensions[\"B\"].width = 12\n",
    "worksheet.column_dimensions[\"E\"].width = 12\n",
    "worksheet.column_dimensions[\"G\"].width = 12\n",
    "\n",
    "file_name = f\"請求書_{today.strftime('%Y%m%d')}.xlsx\"\n",
    "\n",
    "workbook.save(file_name)"
   ]
  },
  {
   "cell_type": "code",
   "execution_count": null,
   "id": "f8fec800-d174-4d58-8b41-53c00491d648",
   "metadata": {},
   "outputs": [],
   "source": []
  }
 ],
 "metadata": {
  "kernelspec": {
   "display_name": "Python 3 (ipykernel)",
   "language": "python",
   "name": "python3"
  },
  "language_info": {
   "codemirror_mode": {
    "name": "ipython",
    "version": 3
   },
   "file_extension": ".py",
   "mimetype": "text/x-python",
   "name": "python",
   "nbconvert_exporter": "python",
   "pygments_lexer": "ipython3",
   "version": "3.11.5"
  }
 },
 "nbformat": 4,
 "nbformat_minor": 5
}
