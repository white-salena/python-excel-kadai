{
 "cells": [
  {
   "cell_type": "code",
   "execution_count": 16,
   "id": "caf19b46-4586-4144-8102-3af95256d9b9",
   "metadata": {},
   "outputs": [],
   "source": [
    "import openpyxl as opx\n",
    "import pandas as pd\n",
    "from openpyxl.styles import PatternFill\n",
    "from openpyxl.styles.borders import Border, Side\n",
    "from openpyxl.styles.alignment import Alignment\n",
    "\n",
    "file_list = [\"2022_年間売上表.xlsx\", \"2023_年間売上表.xlsx\"]\n",
    "df = pd.DataFrame()\n",
    "\n",
    "for file_name in file_list:\n",
    "    temp_df = pd.read_excel(file_name, skiprows=1)\n",
    "    temp_df.columns = [\"売上年\", \"商品\" ,\"金額（千円）\"]\n",
    "    df = pd.concat([df, temp_df], ignore_index=True)\n",
    "\n",
    "group_df = df.groupby([\"商品\", \"売上年\"])[\"金額（千円）\"].sum()\n",
    "\n",
    "with pd.ExcelWriter(\"売上集計表.xlsx\") as writer:\n",
    "    group_df.to_excel(writer, sheet_name= \"Sheet1\")\n",
    "    writer.close\n",
    "\n",
    "wb = opx.load_workbook(\"売上集計表.xlsx\")\n",
    "ws = wb.active\n",
    "chg_color = ws[\"A1:C1\"]\n",
    "pfill = PatternFill(patternType=\"solid\", fgColor=\"F2F2F2\")\n",
    "for row in chg_color:\n",
    "    for cell in row:\n",
    "        cell.fill = pfill\n",
    "\n",
    "ws.column_dimensions[\"A\"].width = 20\n",
    "ws.column_dimensions[\"C\"].width = 15\n",
    "\n",
    "chg_border = ws[\"C1:C17\"]\n",
    "side = Side(style='thin', color='000000')\n",
    "border = Border(top=side, bottom=side, left=side, right=side)\n",
    "for row in chg_border:\n",
    "    for cell in row:\n",
    "        cell.border = border\n",
    "\n",
    "chg_alig = ws[\"A2:A17\"]\n",
    "for row in chg_alig:\n",
    "    for cell in row:\n",
    "        cell.alignment = Alignment(vertical= \"center\")\n",
    "\n",
    "wb.save(\"売上集計表.xlsx\")"
   ]
  },
  {
   "cell_type": "code",
   "execution_count": null,
   "id": "512372bb-6446-4064-872b-a2aaa47d1763",
   "metadata": {},
   "outputs": [],
   "source": []
  }
 ],
 "metadata": {
  "kernelspec": {
   "display_name": "Python 3 (ipykernel)",
   "language": "python",
   "name": "python3"
  },
  "language_info": {
   "codemirror_mode": {
    "name": "ipython",
    "version": 3
   },
   "file_extension": ".py",
   "mimetype": "text/x-python",
   "name": "python",
   "nbconvert_exporter": "python",
   "pygments_lexer": "ipython3",
   "version": "3.11.5"
  }
 },
 "nbformat": 4,
 "nbformat_minor": 5
}
