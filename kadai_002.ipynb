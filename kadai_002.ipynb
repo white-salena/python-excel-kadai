{
 "cells": [
  {
   "cell_type": "code",
   "execution_count": 14,
   "id": "16b235f8-e466-42a1-a79e-ef876494a95f",
   "metadata": {},
   "outputs": [],
   "source": [
    "import pandas as pd\n",
    "\n",
    "df = pd.DataFrame(data = {\n",
    "    \"日付\": [\"2023-05-17\", \"2023-05-18\", \"2023-05-19\", \"2023-05-20\", \"2023-05-21\"],\n",
    "    \"社員名\": [\"山田\", \"佐藤\", \"鈴木\", \"田中\", \"高橋\"],\n",
    "    \"売上\": [100, 200, 150, 300, 250],\n",
    "    \"部門\": [\"メーカー\", \"代理店\", \"メーカー\", \"商社\", \"代理店\"]\n",
    "})\n",
    "\n",
    "df[\"平均売上\"] = df[\"売上\"].mean()\n",
    "\n",
    "def performance(lank):\n",
    "    result = \"\";\n",
    "    if lank >= 250:\n",
    "        result = \"A\";\n",
    "    elif lank >= 200:\n",
    "        result = \"B\";\n",
    "    else:\n",
    "        result = \"C\";\n",
    "    return result\n",
    "\n",
    "df[\"業績ランク\"] = df[\"売上\"].apply(performance)\n",
    "\n",
    "writer = pd.ExcelWriter(\"業績.xlsx\")\n",
    "\n",
    "df.to_excel(writer, sheet_name = \"Sheet1\", index = False)\n",
    "\n",
    "writer.close()"
   ]
  },
  {
   "cell_type": "code",
   "execution_count": null,
   "id": "0e8bac2d-25bd-4de2-a452-14c0048605dd",
   "metadata": {},
   "outputs": [],
   "source": []
  }
 ],
 "metadata": {
  "kernelspec": {
   "display_name": "Python 3 (ipykernel)",
   "language": "python",
   "name": "python3"
  },
  "language_info": {
   "codemirror_mode": {
    "name": "ipython",
    "version": 3
   },
   "file_extension": ".py",
   "mimetype": "text/x-python",
   "name": "python",
   "nbconvert_exporter": "python",
   "pygments_lexer": "ipython3",
   "version": "3.11.5"
  }
 },
 "nbformat": 4,
 "nbformat_minor": 5
}
